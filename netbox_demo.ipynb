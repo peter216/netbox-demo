{
 "cells": [
  {
   "cell_type": "markdown",
   "id": "34dfe4d8-fb1d-41cb-af08-68a9f578f4c7",
   "metadata": {},
   "source": [
    "# Netbox Demo - Devops Team - 08/07/2023"
   ]
  },
  {
   "cell_type": "markdown",
   "id": "35f71d53-02c2-47be-bd44-47470e067808",
   "metadata": {},
   "source": [
    "## Make the Connection"
   ]
  },
  {
   "cell_type": "code",
   "execution_count": null,
   "id": "afc95ed7-16cd-4449-830c-dd9057b0ef45",
   "metadata": {},
   "outputs": [],
   "source": [
    "import pynetbox\n",
    "import json\n",
    "import os\n",
    "import pandas as pd\n",
    "import requests"
   ]
  },
  {
   "cell_type": "code",
   "execution_count": null,
   "id": "d44d613c-977a-4536-9872-24c70d3304fe",
   "metadata": {},
   "outputs": [],
   "source": [
    "nb_url = \"https://demo.netbox.dev\"\n",
    "print(f\"First go here and create a user account: {nb_url}/plugins/demo/login/\")"
   ]
  },
  {
   "cell_type": "code",
   "execution_count": null,
   "id": "f9b5ef0f-5392-49c8-9c5c-5fb76cd60207",
   "metadata": {},
   "outputs": [],
   "source": [
    "nb = pynetbox.api(nb_url)"
   ]
  },
  {
   "cell_type": "code",
   "execution_count": null,
   "id": "46921068-5a6d-4740-9bc7-3738baad774f",
   "metadata": {},
   "outputs": [],
   "source": [
    "token = nb.create_token(\"pdemo\", \"abcd1234\")\n",
    "print(nb.token)"
   ]
  },
  {
   "cell_type": "markdown",
   "id": "b64ac2a6-dc1e-4dad-a365-48fcd8468959",
   "metadata": {},
   "source": [
    "## View System Version"
   ]
  },
  {
   "cell_type": "code",
   "execution_count": null,
   "id": "7fcfcb7f-0ac6-4e11-aaae-cc8dfc1e4a3d",
   "metadata": {},
   "outputs": [],
   "source": [
    "nb.status()"
   ]
  },
  {
   "cell_type": "code",
   "execution_count": null,
   "id": "4bd69247-ae62-462c-a1a7-07a28d32d14c",
   "metadata": {},
   "outputs": [],
   "source": [
    "nb.version"
   ]
  },
  {
   "cell_type": "code",
   "execution_count": null,
   "id": "5ce0ff6e-9d3b-4d1f-ba54-c6a2ff6e61fb",
   "metadata": {},
   "outputs": [],
   "source": [
    "list(nb.plugins.installed_plugins())\n",
    "\n",
    "#Find plugins here: https://github.com/netbox-community/netbox/wiki/Plugins"
   ]
  },
  {
   "cell_type": "markdown",
   "id": "70a7ab52-1660-4642-a039-b9cf93ce5a64",
   "metadata": {},
   "source": [
    "## Retrieve and Inspect Devices"
   ]
  },
  {
   "cell_type": "code",
   "execution_count": null,
   "id": "8397f7f7-0d5b-4a62-96f4-27d5a267120a",
   "metadata": {},
   "outputs": [],
   "source": [
    "devices = nb.dcim.devices.all()"
   ]
  },
  {
   "cell_type": "code",
   "execution_count": null,
   "id": "0db4f672-b22d-4f96-bd38-295e3e3ad0ec",
   "metadata": {},
   "outputs": [],
   "source": [
    "devices"
   ]
  },
  {
   "cell_type": "code",
   "execution_count": null,
   "id": "8c7dd040-e726-462a-9ebe-d2a508a63944",
   "metadata": {},
   "outputs": [],
   "source": [
    "devicelist = list(devices)"
   ]
  },
  {
   "cell_type": "code",
   "execution_count": null,
   "id": "99c60f7e-44fe-4be6-ac4d-1718e5916930",
   "metadata": {},
   "outputs": [],
   "source": [
    "mydev = devicelist[0]"
   ]
  },
  {
   "cell_type": "code",
   "execution_count": null,
   "id": "400647f1-1b62-4f16-8f61-b248b86dbba8",
   "metadata": {},
   "outputs": [],
   "source": [
    "mydev.serialize()"
   ]
  },
  {
   "cell_type": "code",
   "execution_count": null,
   "id": "ed870fe5-5d8d-453c-a0e9-c25a9354e4c8",
   "metadata": {},
   "outputs": [],
   "source": [
    "(mydev.id, mydev.name, mydev.device_type.manufacturer, mydev.device_type.model, mydev.device_role.name)"
   ]
  },
  {
   "cell_type": "code",
   "execution_count": null,
   "id": "42c1f340-5e6d-445a-a6d5-340ed679dca0",
   "metadata": {},
   "outputs": [],
   "source": [
    "mydev.device_type.manufacturer.serialize()"
   ]
  },
  {
   "cell_type": "code",
   "execution_count": null,
   "id": "c651ce94-7074-457a-a437-f58b490b3701",
   "metadata": {},
   "outputs": [],
   "source": [
    "cisco_routers = [dev for dev in devicelist if dev.device_type.manufacturer.slug == \"cisco\" and dev.device_role.slug == \"router\"]"
   ]
  },
  {
   "cell_type": "code",
   "execution_count": null,
   "id": "2cc77062-1252-4834-879c-d8b6f50b46fd",
   "metadata": {},
   "outputs": [],
   "source": [
    "cisco_routers"
   ]
  },
  {
   "cell_type": "code",
   "execution_count": null,
   "id": "6ed10144-3945-4547-a85a-0d15b445484c",
   "metadata": {},
   "outputs": [],
   "source": [
    "mycisco = cisco_routers[0]"
   ]
  },
  {
   "cell_type": "code",
   "execution_count": null,
   "id": "1903704a-2dea-4381-8a0d-1b0cc70fc67e",
   "metadata": {},
   "outputs": [],
   "source": [
    "(mycisco.id, mycisco.name, mycisco.device_type.manufacturer, mycisco.device_type.model, mycisco.device_role.name)"
   ]
  },
  {
   "cell_type": "markdown",
   "id": "f5c873de-c47b-4bb3-918a-43b920f7c8d2",
   "metadata": {},
   "source": [
    "## Edit a Device (Example: Add Comment)"
   ]
  },
  {
   "cell_type": "code",
   "execution_count": null,
   "id": "cda46054-37ba-4721-b008-c2f39bddd454",
   "metadata": {},
   "outputs": [],
   "source": [
    "# Set a comment on a device\n",
    "device_name = \"dmi01-akron-rtr01\"\n",
    "new_comment = \"Comment from pdemo\"\n",
    "try:\n",
    "    device = nb.dcim.devices.get(name=device_name)\n",
    "    if not device:\n",
    "        print(f\"Device with name '{device_name}' not found.\")\n",
    "    else:\n",
    "        # Update the comment\n",
    "        device.comments = new_comment\n",
    "        device.save()\n",
    "except pynetbox.RequestError as e:\n",
    "    print(f\"Failed to set comment on device: {e}\")\n",
    "\n",
    "# Check that comment took\n",
    "device = nb.dcim.devices.get(name=device_name)\n",
    "try:\n",
    "    assert device.comments == new_comment\n",
    "except AssertionError:\n",
    "    print(f\"Comment NOT set on device 'id: {device.id} name: {device_name}': comment: {new_comment}\")\n",
    "else:\n",
    "    print(f\"Comment set on device 'id: {device.id} name: {device_name}': comment: {new_comment}\")\n",
    "\n",
    "print(f\"Check results at https://demo.netbox.dev/dcim/devices/{device.id}\")"
   ]
  },
  {
   "cell_type": "markdown",
   "id": "d4c32b1a-2591-478a-87d7-97894d581c57",
   "metadata": {},
   "source": [
    "## Edit a Config Template and Render the Config for Cisco Routers"
   ]
  },
  {
   "cell_type": "code",
   "execution_count": null,
   "id": "d561dfb8-67a0-437e-b2d1-2c5dc6766744",
   "metadata": {},
   "outputs": [],
   "source": [
    "# Define a template\n",
    "cfg_template_name = \"my_config_template\"\n",
    "mytemplate = ('hostname {{ device.name }}\\n'\n",
    "              '{% for server in ntp_servers %}\\n'\n",
    "              'ntp server {{ server }}\\n'\n",
    "              '{% endfor %}\\n')\n",
    "\n",
    "# Create the config template\n",
    "try:\n",
    "    # Verify the name isn't already taken (make this idempotent)\n",
    "    existing_names = [ct.name for ct in nb.extras.config_templates.all()]\n",
    "    assert cfg_template_name not in existing_names\n",
    "    # Create the new config template\n",
    "    nct = nb.extras.config_templates.create(name=cfg_template_name, template_code=mytemplate)\n",
    "    print(f\"Config template '{nct.name}' with ID {nct.id} created successfully!\")\n",
    "except AssertionError:\n",
    "    print(f\"Config Template Name {cfg_template_name} already exists.\")\n",
    "except pynetbox.RequestError as e:\n",
    "    print(f\"Failed to create config template: {e}\")"
   ]
  },
  {
   "cell_type": "code",
   "execution_count": null,
   "id": "9ddd70bf-6a31-4a51-a3c5-7f6611253892",
   "metadata": {},
   "outputs": [],
   "source": [
    "config_context = \"\"\"\n",
    "{\n",
    "  \"ntp_servers\": [\n",
    "                   \"172.16.10.22\",\n",
    "                   \"172.16.10.33\"\n",
    "   ]\n",
    "}\n",
    "\"\"\"\n",
    "\n",
    "jcc = json.loads(config_context)"
   ]
  },
  {
   "cell_type": "code",
   "execution_count": null,
   "id": "10f8dafb-87b7-44ca-baef-914748ed2a64",
   "metadata": {},
   "outputs": [],
   "source": [
    "ctid = nb.extras.config_templates.get(name=cfg_template_name).id"
   ]
  },
  {
   "cell_type": "code",
   "execution_count": null,
   "id": "9b84c403-5860-4dc5-b83a-8946d63623b5",
   "metadata": {},
   "outputs": [],
   "source": [
    "for device in cisco_routers:\n",
    "    device.local_context_data = jcc\n",
    "    device.config_template = ctid\n",
    "    try:\n",
    "        # Save the context locally to the router\n",
    "        #print(device.serialize())\n",
    "        success = device.save()\n",
    "        assert success\n",
    "        print(f\"Configuration updated on device id {device.id} name {device.name}\")\n",
    "    except (AssertionError, pynetbox.RequestError) as e:\n",
    "        print(f\"Failed to update configuration on device id {device.id} name {device.name} because {e.__class__}: {e}\")"
   ]
  },
  {
   "cell_type": "code",
   "execution_count": null,
   "id": "1b269217-b9e0-4aaf-8c4d-b4cf4d731082",
   "metadata": {},
   "outputs": [],
   "source": [
    "print(f\"Check results at https://demo.netbox.dev/dcim/devices/{device.id}/render-config/\")"
   ]
  },
  {
   "cell_type": "markdown",
   "id": "bb347bfc-d12a-41bb-98a3-1b1357d35324",
   "metadata": {},
   "source": [
    "## Get Device Types and Roles"
   ]
  },
  {
   "cell_type": "code",
   "execution_count": null,
   "id": "073012d8-bc0a-4e1e-acee-3eb32eaf35db",
   "metadata": {},
   "outputs": [],
   "source": [
    "device_types = nb.dcim.device_types.all()\n",
    "device_types_dict = {dt.id: dt for dt in device_types}\n",
    "devices = nb.dcim.devices.all()\n",
    "devices_list = list(devices)"
   ]
  },
  {
   "cell_type": "code",
   "execution_count": null,
   "id": "429a391a-a972-4ff8-ba53-cc0d286e2e91",
   "metadata": {},
   "outputs": [],
   "source": [
    "dt_output_list = []\n",
    "for id, dev_type in device_types_dict.items():\n",
    "    device_count = len([dev for dev in devices_list if int(dev.device_type.id) == int(id)])\n",
    "    dt_output_list.append([id, dev_type.display, device_count])"
   ]
  },
  {
   "cell_type": "code",
   "execution_count": null,
   "id": "9ade62fc-b4df-4779-bbff-7e58574e005c",
   "metadata": {},
   "outputs": [],
   "source": [
    "df = pd.DataFrame(dt_output_list, columns=[\"ID\", \"Display Name\", \"Device Count\"])\n",
    "df.set_index(\"ID\", inplace=True)"
   ]
  },
  {
   "cell_type": "code",
   "execution_count": null,
   "id": "ed835322-e587-42f5-adee-902454f0b6b2",
   "metadata": {},
   "outputs": [],
   "source": [
    "df.sort_values(\"Device Count\", ascending=False)"
   ]
  },
  {
   "cell_type": "code",
   "execution_count": null,
   "id": "ef618d62-b620-4444-9708-25cee08d9dbf",
   "metadata": {},
   "outputs": [],
   "source": [
    "device_roles = nb.dcim.device_roles.all()\n",
    "device_roles_dict = {dr.id: dr for dr in device_roles}"
   ]
  },
  {
   "cell_type": "code",
   "execution_count": null,
   "id": "ac0bee69-8fcb-4e7b-ba5d-f5728eec44cd",
   "metadata": {},
   "outputs": [],
   "source": [
    "dt_output_list = []\n",
    "for id, dev_role in device_roles_dict.items():\n",
    "    device_count = len([dev for dev in devices_list if int(dev.device_role.id) == int(id)])\n",
    "    dt_output_list.append([id, dev_role.display, device_count])"
   ]
  },
  {
   "cell_type": "code",
   "execution_count": null,
   "id": "e54f90ff-37c1-47d3-b6bb-e4c9f20a7e3a",
   "metadata": {},
   "outputs": [],
   "source": [
    "df = pd.DataFrame(dt_output_list, columns=[\"ID\", \"Display Name\", \"Device Count\"])\n",
    "df.set_index(\"ID\", inplace=True)"
   ]
  },
  {
   "cell_type": "code",
   "execution_count": null,
   "id": "2a49de27-ad41-43d1-9833-0335a2ccdc8e",
   "metadata": {},
   "outputs": [],
   "source": [
    "df.sort_values(\"Device Count\", ascending=False)"
   ]
  },
  {
   "cell_type": "markdown",
   "id": "a4a4f9a4-0edc-4b08-a86e-94b59ad67bc7",
   "metadata": {},
   "source": [
    "## Use Requests Library (Raw REST) Instead of Pynetbox"
   ]
  },
  {
   "cell_type": "code",
   "execution_count": null,
   "id": "f5d4a843-e1a8-4298-9a33-ccf6d1e4885d",
   "metadata": {},
   "outputs": [],
   "source": [
    "headers = {'Authorization': 'Token {}'.format(token.key), \n",
    "           'Content-Type': 'application/json'}"
   ]
  },
  {
   "cell_type": "code",
   "execution_count": null,
   "id": "ce259f64-a271-4a76-b090-72eb84150d24",
   "metadata": {},
   "outputs": [],
   "source": [
    "jdata = requests.get(\"https://demo.netbox.dev/api/dcim/devices/1\", headers=headers)"
   ]
  },
  {
   "cell_type": "code",
   "execution_count": null,
   "id": "4719a322-0a15-4547-8a65-5741e21c434a",
   "metadata": {},
   "outputs": [],
   "source": [
    "jdata.json()"
   ]
  },
  {
   "cell_type": "markdown",
   "id": "ab902f07-e473-44f1-967e-6d2f536c180f",
   "metadata": {},
   "source": [
    "## Use Ansible to View and Update"
   ]
  },
  {
   "cell_type": "code",
   "execution_count": null,
   "id": "3385a702-698e-44d8-8ad4-ec2d81e0420b",
   "metadata": {},
   "outputs": [],
   "source": [
    "os.environ[\"NETBOX_URL\"] = nb_url\n",
    "os.environ[\"NETBOX_TOKEN\"] = nb.token"
   ]
  },
  {
   "cell_type": "code",
   "execution_count": null,
   "id": "d404d5b5-88af-42eb-a2ab-9ecc327ed9eb",
   "metadata": {},
   "outputs": [],
   "source": [
    "%pycat lookup.yml"
   ]
  },
  {
   "cell_type": "code",
   "execution_count": null,
   "id": "39a12b8f-0d7f-4ae1-b0b9-fcd445efc80f",
   "metadata": {},
   "outputs": [],
   "source": [
    "!ansible-playbook lookup.yml"
   ]
  },
  {
   "cell_type": "code",
   "execution_count": null,
   "id": "1a309ff6-e62b-408c-99c3-59d13d9b742f",
   "metadata": {},
   "outputs": [],
   "source": []
  }
 ],
 "metadata": {
  "kernelspec": {
   "display_name": "Python 3 (ipykernel)",
   "language": "python",
   "name": "python3"
  },
  "language_info": {
   "codemirror_mode": {
    "name": "ipython",
    "version": 3
   },
   "file_extension": ".py",
   "mimetype": "text/x-python",
   "name": "python",
   "nbconvert_exporter": "python",
   "pygments_lexer": "ipython3",
   "version": "3.10.12"
  }
 },
 "nbformat": 4,
 "nbformat_minor": 5
}
